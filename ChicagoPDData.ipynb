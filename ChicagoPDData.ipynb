{
 "cells": [
  {
   "cell_type": "code",
   "execution_count": 2,
   "metadata": {},
   "outputs": [],
   "source": [
    "import requests"
   ]
  },
  {
   "cell_type": "code",
   "execution_count": 3,
   "metadata": {},
   "outputs": [],
   "source": [
    "base_api = \"https://data.cityofchicago.org/resource/6zsd-86xi.json?\"\n",
    "#https://data.cityofchicago.org/resource/6zsd-86xi.json?$where=date%20between%20%272015-01-10T12:00:00%27%20and%20%272015-01-10T14:00:00%27"
   ]
  },
  {
   "cell_type": "markdown",
   "metadata": {},
   "source": [
    "## Possible Options for Primary Crime Type\n",
    "* ARSON \n",
    "* ASSAULT\n",
    "* BATTERY\n",
    "* BURGLARY\n",
    "* CONCEALED CARRY LICENSE VIOLATION\n",
    "* CRIMINAL DAMAGE\n",
    "* CRIMINAL TRESPASS\n",
    "* CRIM SEXUAL ASSAULT\n",
    "* DECEPTIVE PRACTICE\n",
    "* DOMESTIC VIOLENCE\n",
    "* GAMBLING\n",
    "* HOMICIDE\n",
    "* HUMAN TRAFFICKING\n",
    "* INTERFERENCE WITH PUBLIC OFFICER\n",
    "* INTIMIDATION\n",
    "* KIDNAPPING\n",
    "* LIQUOR LAW VIOLATION\n",
    "* MOTOR VEHICLE THEFT\n",
    "* NARCOTICS\n",
    "* NON - CRIMINAL\n",
    "* NON-CRIMINAL\n",
    "* NON-CRIMINAL (SUBJECT SPECIFIED)\n",
    "* OBSCENITY\n",
    "* OFFENSE INVOLVING CHILDREN\n",
    "* OTHER NARCOTIC VIOLATION\n",
    "* OTHER OFFENSE\n",
    "* PROSTITUTION\n",
    "* PUBLIC INDECENCY\n",
    "* PUBLIC PEACE VIOLATION\n",
    "* RITUALISM\n",
    "* ROBBERY\n",
    "* SEX OFFENSE\n",
    "* STALKING\n",
    "* THEFT\n",
    "* WEAPONS VIOLATION"
   ]
  },
  {
   "cell_type": "markdown",
   "metadata": {},
   "source": [
    "## Selected Options For Primary Type\n",
    "* ARSON\n",
    "* ASSAULT\n",
    "* BATTERY\n",
    "* BURGLARY\n",
    "* CRIMINAL DAMAGE\n",
    "* CRIMINAL TRESPASS\n",
    "* CRIM SEXUAL ASSAULT\n",
    "* DOMESTIC VIOLENCE\n",
    "* HOMICIDE\n",
    "* HUMAN TRAFFICKING\n",
    "* INTERFERENCE WITH PUBLIC OFFICER\n",
    "* INTIMIDATION\n",
    "* KIDNAPPING\n",
    "* MOTOR VEHICLE THEFT\n",
    "* OFFENSE INVOLVING CHILDREN\n",
    "* PROSTITUTION\n",
    "* PUBLIC INDECENCY\n",
    "* ROBBERY\n",
    "* SEX OFFENSE\n",
    "* STALKING\n",
    "* THEFT\n",
    "* WEAPONS VIOLATION"
   ]
  },
  {
   "cell_type": "code",
   "execution_count": 133,
   "metadata": {},
   "outputs": [],
   "source": [
    "#Define function to get a set of results from the socrata API (max size is 50,000)\n",
    "def get_page(date_start, date_end, crime_list, limit, offset):\n",
    "    full_query=(base_api+\"$where=date%20between%20%27\"+date_start+\"%27%20and%20%27\"+date_end+\"%27\" +\n",
    "            \"AND primary_type in\" + crime_list +\n",
    "            \"&$limit=\" + str(limit) + \n",
    "            \"&$offset=\"+str(offset))\n",
    "    nodes = requests.get(full_query).json()\n",
    "    return nodes"
   ]
  },
  {
   "cell_type": "code",
   "execution_count": 135,
   "metadata": {},
   "outputs": [],
   "source": [
    "offset = 0\n",
    "node_array=[]\n",
    "limit = 50000\n",
    "date_start=\"2017-01-01T00:00:00\"\n",
    "date_end=\"2019-01-01T00:00:00\"\n",
    "crime_list=(\"('ARSON', 'ASSAULT', 'BATTERY', 'BURGLARY', 'CRIMINAL DAMAGE',\"+\n",
    "            \" 'CRIMINAL TRESPASS', 'CRIM SEXUAL ASSAULT', 'DOMESTIC VIOLENCE',\"+\n",
    "            \" 'HOMICIDE', 'HUMAN TRAFFICKING', 'INTERFERENCE WITH PUBLIC OFFICER',\"+\n",
    "            \" 'INTIMIDATION', 'KIDNAPPING', 'MOTOR VEHICLE THEFT', 'OFFENSE INVOLVING CHILDREN',\"+\n",
    "            \" 'PROSTITUTION','PUBLIC INDECENCY')\")\n",
    "nodes = get_page(date_start,date_end,crime_list, limit, offset)\n",
    "\n",
    "while len(nodes)>0:\n",
    "    node_array.append(nodes)\n",
    "    offset += limit\n",
    "    nodes = get_page(date_start,date_end,crime_list,limit,offset)"
   ]
  },
  {
   "cell_type": "code",
   "execution_count": 127,
   "metadata": {},
   "outputs": [],
   "source": [
    "csv_array = []\n",
    "for node in node_array:\n",
    "    for item in node:\n",
    "        if 'longitude' in item and 'latitude' in item and 'date' in item:\n",
    "            output_string= str(item[\"date\"]) + \",\" + str(item[\"longitude\"]) + \",\" + str(item[\"latitude\"])\n",
    "            csv_array.append(output_string)"
   ]
  },
  {
   "cell_type": "code",
   "execution_count": 141,
   "metadata": {},
   "outputs": [
    {
     "data": {
      "text/plain": [
       "269392"
      ]
     },
     "execution_count": 141,
     "metadata": {},
     "output_type": "execute_result"
    }
   ],
   "source": [
    "len(csv_array) + 600"
   ]
  },
  {
   "cell_type": "code",
   "execution_count": 139,
   "metadata": {},
   "outputs": [],
   "source": [
    "def write_csv_from_array(array,filename):\n",
    "    with open(filename,'w') as file:\n",
    "        for line in array:\n",
    "            file.write(line + '\\n')\n",
    "        \n",
    "            "
   ]
  },
  {
   "cell_type": "code",
   "execution_count": 140,
   "metadata": {},
   "outputs": [],
   "source": [
    "write_csv_from_array(csv_array,'CPDCrimes.csv')"
   ]
  },
  {
   "cell_type": "code",
   "execution_count": null,
   "metadata": {},
   "outputs": [],
   "source": []
  }
 ],
 "metadata": {
  "kernelspec": {
   "display_name": "chicago",
   "language": "python",
   "name": "chicago"
  },
  "language_info": {
   "codemirror_mode": {
    "name": "ipython",
    "version": 3
   },
   "file_extension": ".py",
   "mimetype": "text/x-python",
   "name": "python",
   "nbconvert_exporter": "python",
   "pygments_lexer": "ipython3",
   "version": "3.5.2"
  }
 },
 "nbformat": 4,
 "nbformat_minor": 2
}
